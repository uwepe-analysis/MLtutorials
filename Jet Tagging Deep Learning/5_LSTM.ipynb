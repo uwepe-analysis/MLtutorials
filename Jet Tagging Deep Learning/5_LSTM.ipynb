{
 "cells": [
  {
   "cell_type": "markdown",
   "metadata": {},
   "source": [
    "# Long Short Term Memory"
   ]
  },
  {
   "cell_type": "markdown",
   "metadata": {},
   "source": [
    "Long Short-Term Memory (LSTM) networks are a type of recurrent neural network capable of learning order dependence in sequence prediction problems. This is a behavior required in complex problem domains like machine translation, speech recognition, and more."
   ]
  },
  {
   "cell_type": "markdown",
   "metadata": {},
   "source": [
    "LSTM Model:  \n",
    "Goal: The dataset and pre-trained models in this page can be used to reproduce Recursive Neural Networks in Phil’s talk:  \n",
    "July 15 2019 [talk](https://drive.google.com/open?id=1b62jf6w-UeJsq2vFQdw1Hm77h_voIb-d)  \n",
    "Aug 15 2019 [talk](https://drive.google.com/open?id=1B8x-6u9xex03hiVMQkCHgDXvCTdbiJQG)"
   ]
  },
  {
   "cell_type": "markdown",
   "metadata": {},
   "source": [
    "Input features (6): \n",
    " - j1_ptrel \n",
    " - j1_etarot \n",
    " - j1_phirot \n",
    " - j1_erel \n",
    " - j1_deltaR\n",
    " - j1_pdgid\n",
    "MaxParticles: 20"
   ]
  },
  {
   "cell_type": "markdown",
   "metadata": {},
   "source": [
    "Labels (5): \n",
    "- j_g \n",
    "- j_q \n",
    "- j_w \n",
    "- j_z \n",
    "- j_t\n"
   ]
  },
  {
   "cell_type": "code",
   "execution_count": 1,
   "metadata": {},
   "outputs": [
    {
     "name": "stderr",
     "output_type": "stream",
     "text": [
      "Using TensorFlow backend.\n"
     ]
    }
   ],
   "source": [
    "import keras\n",
    "from keras.layers import Input, Dense, Flatten, LSTM\n",
    "from keras.models import load_model, Model\n",
    "from sklearn.metrics import roc_curve, auc\n",
    "import numpy as np\n",
    "import h5py\n",
    "import pandas as pd\n",
    "import matplotlib.pyplot as plt\n",
    "from sklearn import preprocessing\n",
    "from tensorflow.keras.regularizers import l1\n",
    "from sklearn.model_selection import train_test_split\n",
    "from tensorflow.keras.optimizers import Adam\n",
    "from tqdm import tqdm"
   ]
  },
  {
   "cell_type": "code",
   "execution_count": 2,
   "metadata": {},
   "outputs": [
    {
     "name": "stdout",
     "output_type": "stream",
     "text": [
      "(5131613,)\n",
      "(98769, 5)\n"
     ]
    }
   ],
   "source": [
    "# To use one data file:\n",
    "h5File = h5py.File('processed-pythia82-lhc13-all-pt1-50k-r1_h022_e0175_t220_nonu_withPars_truth_0.z', 'r')\n",
    "treeArray = h5File['t_allpar_new'][()]\n",
    "\n",
    "h5File.close()\n",
    "\n",
    "print(treeArray.shape)\n",
    "\n",
    "# List of features to use\n",
    "features = ['j1_ptrel', 'j1_etarot', 'j1_phirot', 'j1_erel', 'j1_deltaR', 'j1_pdgid', 'j_index']\n",
    "\n",
    "# List of labels to use\n",
    "labels = ['j_g', 'j_q', 'j_w', 'j_z', 'j_t', 'j_index']\n",
    "\n",
    "# Convert to dataframe\n",
    "features_labels_df = pd.DataFrame(treeArray,columns=list(set(features+labels)))\n",
    "features_labels_df = features_labels_df.drop_duplicates()\n",
    "\n",
    "features_df = features_labels_df[features]\n",
    "labels_df = features_labels_df[labels]\n",
    "labels_df = labels_df.drop_duplicates()\n",
    "\n",
    "# Convert to numpy array \n",
    "features_val = features_df.values\n",
    "labels_val = labels_df.values     \n",
    "\n",
    "if 'j_index' in features:\n",
    "    features_val = features_val[:,:-1] # drop the j_index feature\n",
    "if 'j_index' in labels:\n",
    "    labels_val = labels_val[:,:-1] # drop the j_index label\n",
    "    print(labels_val.shape)"
   ]
  },
  {
   "cell_type": "code",
   "execution_count": 3,
   "metadata": {},
   "outputs": [
    {
     "name": "stderr",
     "output_type": "stream",
     "text": [
      "100%|██████████| 98769/98769 [12:30<00:00, 131.55it/s]\n"
     ]
    }
   ],
   "source": [
    "MaxParticles = 20\n",
    "features_2dval = np.zeros((len(labels_df), MaxParticles, len(features)-1))\n",
    "for i in tqdm(range(0, len(labels_df))):\n",
    "    features_df_i = features_df[features_df['j_index']==labels_df['j_index'].iloc[i]]\n",
    "    index_values = features_df_i.index.values\n",
    "    features_val_i = features_val[np.array(index_values), :]\n",
    "    nParticles = len(features_val_i)\n",
    "    features_val_i = features_val_i[features_val_i[:, 0].argsort()[::-1]] # sort descending by ptrel\n",
    "    if nParticles > MaxParticles:\n",
    "        features_val_i =  features_val_i[0:MaxParticles, :]\n",
    "    else:        \n",
    "        features_val_i = np.concatenate([features_val_i, np.zeros((MaxParticles-nParticles, len(features)-1))])\n",
    "    features_2dval[i, :, :] = features_val_i\n",
    "features_val = features_2dval"
   ]
  },
  {
   "cell_type": "code",
   "execution_count": 4,
   "metadata": {},
   "outputs": [],
   "source": [
    "X_train, X_test, y_train, y_test = train_test_split(features_val, labels_val, test_size=0.2, random_state=42)"
   ]
  },
  {
   "cell_type": "code",
   "execution_count": 5,
   "metadata": {},
   "outputs": [],
   "source": [
    "#Normalize conv inputs\n",
    "reshape_X_train_val = X_train.reshape(X_train.shape[0]*X_train.shape[1], X_train.shape[2])\n",
    "scaler = preprocessing.StandardScaler().fit(reshape_X_train_val)\n",
    "for p in range(X_train.shape[1]):\n",
    "    X_train[:,p,:] = scaler.transform(X_train[:, p, :])\n",
    "    X_test[:,p,:] = scaler.transform(X_test[:, p, :])    \n",
    "\n",
    "if 'j_index' in labels:\n",
    "    labels = labels[:-1]"
   ]
  },
  {
   "cell_type": "markdown",
   "metadata": {},
   "source": [
    "# Self_Build Model"
   ]
  },
  {
   "cell_type": "code",
   "execution_count": 6,
   "metadata": {},
   "outputs": [
    {
     "name": "stdout",
     "output_type": "stream",
     "text": [
      "Model: \"model\"\n",
      "_________________________________________________________________\n",
      "Layer (type)                 Output Shape              Param #   \n",
      "=================================================================\n",
      "input_1 (InputLayer)         [(None, 20, 6)]           0         \n",
      "_________________________________________________________________\n",
      "lstm_lstm (LSTM)             (None, 20, 16)            1472      \n",
      "_________________________________________________________________\n",
      "flatten (Flatten)            (None, 320)               0         \n",
      "_________________________________________________________________\n",
      "rnn_densef (Dense)           (None, 5)                 1605      \n",
      "=================================================================\n",
      "Total params: 3,077\n",
      "Trainable params: 3,077\n",
      "Non-trainable params: 0\n",
      "_________________________________________________________________\n"
     ]
    }
   ],
   "source": [
    "l1Reg =  0.0001\n",
    "l1RegR = 0.001\n",
    "\n",
    "Inputs = Input(shape = (20,6,))\n",
    "x = LSTM(16,return_sequences=True,  kernel_regularizer=l1(l1Reg),recurrent_regularizer=l1(l1RegR),activation='relu',kernel_initializer='lecun_uniform',name='lstm_lstm',\n",
    "         dropout=0.001, recurrent_dropout=0.00001)(Inputs)\n",
    "x = Flatten()(x)\n",
    "#x = Dropout(0.1)(x)\n",
    "predictions = Dense(5, activation='softmax', kernel_initializer='lecun_uniform', name='rnn_densef')(x)\n",
    "model = Model(inputs=Inputs, outputs=predictions)\n",
    "\n",
    "model.summary()"
   ]
  },
  {
   "cell_type": "markdown",
   "metadata": {},
   "source": [
    "# Run training"
   ]
  },
  {
   "cell_type": "code",
   "execution_count": 7,
   "metadata": {},
   "outputs": [],
   "source": [
    "adam = Adam(lr = 0.0001)\n",
    "model.compile(optimizer='adam', loss='categorical_crossentropy', metrics=['accuracy'])"
   ]
  },
  {
   "cell_type": "code",
   "execution_count": 8,
   "metadata": {},
   "outputs": [
    {
     "name": "stdout",
     "output_type": "stream",
     "text": [
      "Epoch 1/100\n",
      "1852/1852 [==============================] - 38s 20ms/step - loss: 1.1131 - accuracy: 0.6110 - val_loss: 1.0056 - val_accuracy: 0.6671\n",
      "Epoch 2/100\n",
      "1852/1852 [==============================] - 34s 19ms/step - loss: 0.9684 - accuracy: 0.6746 - val_loss: 0.9763 - val_accuracy: 0.6594\n",
      "Epoch 3/100\n",
      "1852/1852 [==============================] - 32s 17ms/step - loss: 0.9283 - accuracy: 0.6874 - val_loss: 0.9226 - val_accuracy: 0.6901\n",
      "Epoch 4/100\n",
      "1852/1852 [==============================] - 32s 17ms/step - loss: 0.9098 - accuracy: 0.6904 - val_loss: 0.9033 - val_accuracy: 0.6936\n",
      "Epoch 5/100\n",
      "1852/1852 [==============================] - 32s 17ms/step - loss: 0.8976 - accuracy: 0.6943 - val_loss: 0.8903 - val_accuracy: 0.6965\n",
      "Epoch 6/100\n",
      "1852/1852 [==============================] - 32s 17ms/step - loss: 0.8892 - accuracy: 0.6971 - val_loss: 0.8817 - val_accuracy: 0.7001\n",
      "Epoch 7/100\n",
      "1852/1852 [==============================] - 32s 17ms/step - loss: 0.8843 - accuracy: 0.6972 - val_loss: 0.8853 - val_accuracy: 0.6971\n",
      "Epoch 8/100\n",
      "1852/1852 [==============================] - 32s 17ms/step - loss: 0.8785 - accuracy: 0.7014 - val_loss: 0.8897 - val_accuracy: 0.6951\n",
      "Epoch 9/100\n",
      "1852/1852 [==============================] - 32s 17ms/step - loss: 0.8758 - accuracy: 0.7006 - val_loss: 0.8695 - val_accuracy: 0.7054\n",
      "Epoch 10/100\n",
      "1852/1852 [==============================] - 32s 18ms/step - loss: 0.8707 - accuracy: 0.7018 - val_loss: 0.8856 - val_accuracy: 0.6975\n",
      "Epoch 11/100\n",
      "1852/1852 [==============================] - 32s 17ms/step - loss: 0.8689 - accuracy: 0.7029 - val_loss: 0.8653 - val_accuracy: 0.7070\n",
      "Epoch 12/100\n",
      "1852/1852 [==============================] - 32s 17ms/step - loss: 0.8676 - accuracy: 0.7036 - val_loss: 0.8879 - val_accuracy: 0.7041\n",
      "Epoch 13/100\n",
      "1852/1852 [==============================] - 32s 17ms/step - loss: 0.8657 - accuracy: 0.7046 - val_loss: 0.8625 - val_accuracy: 0.7084\n",
      "Epoch 14/100\n",
      "1852/1852 [==============================] - 32s 17ms/step - loss: 0.8620 - accuracy: 0.7043 - val_loss: 0.8758 - val_accuracy: 0.7047\n",
      "Epoch 15/100\n",
      "1852/1852 [==============================] - 32s 17ms/step - loss: 0.8602 - accuracy: 0.7073 - val_loss: 0.8668 - val_accuracy: 0.7086\n",
      "Epoch 16/100\n",
      "1852/1852 [==============================] - 32s 17ms/step - loss: 0.8607 - accuracy: 0.7050 - val_loss: 0.8600 - val_accuracy: 0.7070\n",
      "Epoch 17/100\n",
      "1852/1852 [==============================] - 32s 17ms/step - loss: 0.8572 - accuracy: 0.7070 - val_loss: 0.8615 - val_accuracy: 0.7080\n",
      "Epoch 18/100\n",
      "1852/1852 [==============================] - 32s 17ms/step - loss: 0.8573 - accuracy: 0.7085 - val_loss: 0.8542 - val_accuracy: 0.7091\n",
      "Epoch 19/100\n",
      "1852/1852 [==============================] - 32s 18ms/step - loss: 0.8543 - accuracy: 0.7081 - val_loss: 0.8684 - val_accuracy: 0.7037\n",
      "Epoch 20/100\n",
      "1852/1852 [==============================] - 32s 17ms/step - loss: 0.8535 - accuracy: 0.7086 - val_loss: 0.8584 - val_accuracy: 0.7097\n",
      "Epoch 21/100\n",
      "1852/1852 [==============================] - 32s 18ms/step - loss: 0.8523 - accuracy: 0.7096 - val_loss: 0.8633 - val_accuracy: 0.7077\n",
      "Epoch 22/100\n",
      "1852/1852 [==============================] - 32s 17ms/step - loss: 0.8525 - accuracy: 0.7101 - val_loss: 0.8551 - val_accuracy: 0.7095\n",
      "Epoch 23/100\n",
      "1852/1852 [==============================] - 32s 17ms/step - loss: 0.8518 - accuracy: 0.7098 - val_loss: 0.8615 - val_accuracy: 0.7059\n",
      "Epoch 24/100\n",
      "1852/1852 [==============================] - 33s 18ms/step - loss: 0.8509 - accuracy: 0.7087 - val_loss: 0.8711 - val_accuracy: 0.7019\n",
      "Epoch 25/100\n",
      "1852/1852 [==============================] - 33s 18ms/step - loss: 0.8492 - accuracy: 0.7105 - val_loss: 0.8483 - val_accuracy: 0.7106\n",
      "Epoch 26/100\n",
      "1852/1852 [==============================] - 32s 17ms/step - loss: 0.8495 - accuracy: 0.7088 - val_loss: 0.8708 - val_accuracy: 0.7083\n",
      "Epoch 27/100\n",
      "1852/1852 [==============================] - 32s 17ms/step - loss: 0.8483 - accuracy: 0.7095 - val_loss: 0.8511 - val_accuracy: 0.7101\n",
      "Epoch 28/100\n",
      "1852/1852 [==============================] - 32s 17ms/step - loss: 0.8486 - accuracy: 0.7082 - val_loss: 0.8677 - val_accuracy: 0.7065\n",
      "Epoch 29/100\n",
      "1852/1852 [==============================] - 33s 18ms/step - loss: 0.8466 - accuracy: 0.7113 - val_loss: 0.8513 - val_accuracy: 0.7082\n",
      "Epoch 30/100\n",
      "1852/1852 [==============================] - 32s 17ms/step - loss: 0.8449 - accuracy: 0.7107 - val_loss: 0.8734 - val_accuracy: 0.7008\n",
      "Epoch 31/100\n",
      "1852/1852 [==============================] - 32s 17ms/step - loss: 0.8441 - accuracy: 0.7123 - val_loss: 0.8536 - val_accuracy: 0.7093\n",
      "Epoch 32/100\n",
      "1852/1852 [==============================] - 32s 17ms/step - loss: 0.8439 - accuracy: 0.7117 - val_loss: 0.8698 - val_accuracy: 0.6999\n",
      "Epoch 33/100\n",
      "1852/1852 [==============================] - 33s 18ms/step - loss: 0.8415 - accuracy: 0.7124 - val_loss: 0.8495 - val_accuracy: 0.7094\n",
      "Epoch 34/100\n",
      "1852/1852 [==============================] - 32s 17ms/step - loss: 0.8425 - accuracy: 0.7124 - val_loss: 0.8562 - val_accuracy: 0.7070\n",
      "Epoch 35/100\n",
      "1852/1852 [==============================] - 32s 17ms/step - loss: 0.8419 - accuracy: 0.7128 - val_loss: 0.8547 - val_accuracy: 0.7062\n",
      "Epoch 36/100\n",
      "1852/1852 [==============================] - 32s 17ms/step - loss: 0.8399 - accuracy: 0.7140 - val_loss: 0.8551 - val_accuracy: 0.7086\n",
      "Epoch 37/100\n",
      "1852/1852 [==============================] - 32s 17ms/step - loss: 0.8398 - accuracy: 0.7130 - val_loss: 0.8642 - val_accuracy: 0.7080\n",
      "Epoch 38/100\n",
      "1852/1852 [==============================] - 33s 18ms/step - loss: 0.8394 - accuracy: 0.7126 - val_loss: 0.8606 - val_accuracy: 0.7049\n",
      "Epoch 39/100\n",
      "1852/1852 [==============================] - 33s 18ms/step - loss: 0.8383 - accuracy: 0.7133 - val_loss: 0.8618 - val_accuracy: 0.7051\n",
      "Epoch 40/100\n",
      "1852/1852 [==============================] - 33s 18ms/step - loss: 0.8383 - accuracy: 0.7134 - val_loss: 0.8457 - val_accuracy: 0.7137\n",
      "Epoch 41/100\n",
      "1852/1852 [==============================] - 34s 18ms/step - loss: 0.8387 - accuracy: 0.7135 - val_loss: 0.8483 - val_accuracy: 0.7112\n",
      "Epoch 42/100\n",
      "1852/1852 [==============================] - 33s 18ms/step - loss: 0.8382 - accuracy: 0.7151 - val_loss: 0.8491 - val_accuracy: 0.7112\n",
      "Epoch 43/100\n",
      "1852/1852 [==============================] - 33s 18ms/step - loss: 0.8374 - accuracy: 0.7139 - val_loss: 0.8418 - val_accuracy: 0.7149\n",
      "Epoch 44/100\n",
      "1852/1852 [==============================] - 33s 18ms/step - loss: 0.8361 - accuracy: 0.7133 - val_loss: 0.8611 - val_accuracy: 0.7083\n",
      "Epoch 45/100\n",
      "1852/1852 [==============================] - 34s 18ms/step - loss: 0.8360 - accuracy: 0.7141 - val_loss: 0.8482 - val_accuracy: 0.7116\n",
      "Epoch 46/100\n",
      "1852/1852 [==============================] - 33s 18ms/step - loss: 0.8342 - accuracy: 0.7150 - val_loss: 0.8437 - val_accuracy: 0.7149\n",
      "Epoch 47/100\n",
      "1852/1852 [==============================] - 32s 18ms/step - loss: 0.8351 - accuracy: 0.7134 - val_loss: 0.8424 - val_accuracy: 0.7133\n",
      "Epoch 48/100\n",
      "1852/1852 [==============================] - 32s 17ms/step - loss: 0.8344 - accuracy: 0.7144 - val_loss: 0.8544 - val_accuracy: 0.7063\n",
      "Epoch 49/100\n",
      "1852/1852 [==============================] - 33s 18ms/step - loss: 0.8335 - accuracy: 0.7144 - val_loss: 0.8617 - val_accuracy: 0.7032\n",
      "Epoch 50/100\n",
      "1852/1852 [==============================] - 33s 18ms/step - loss: 0.8335 - accuracy: 0.7150 - val_loss: 0.8496 - val_accuracy: 0.7133\n",
      "Epoch 51/100\n",
      "1852/1852 [==============================] - 32s 18ms/step - loss: 0.8336 - accuracy: 0.7150 - val_loss: 0.8486 - val_accuracy: 0.7107\n",
      "Epoch 52/100\n",
      "1852/1852 [==============================] - 33s 18ms/step - loss: 0.8345 - accuracy: 0.7143 - val_loss: 0.8478 - val_accuracy: 0.7131\n",
      "Epoch 53/100\n",
      "1852/1852 [==============================] - 33s 18ms/step - loss: 0.8314 - accuracy: 0.7161 - val_loss: 0.8628 - val_accuracy: 0.7071\n",
      "Epoch 54/100\n",
      "1852/1852 [==============================] - 33s 18ms/step - loss: 0.8320 - accuracy: 0.7173 - val_loss: 0.8424 - val_accuracy: 0.7156\n",
      "Epoch 55/100\n",
      "1852/1852 [==============================] - 32s 17ms/step - loss: 0.8313 - accuracy: 0.7156 - val_loss: 0.8519 - val_accuracy: 0.7067\n",
      "Epoch 56/100\n"
     ]
    },
    {
     "name": "stdout",
     "output_type": "stream",
     "text": [
      "1852/1852 [==============================] - 33s 18ms/step - loss: 0.8291 - accuracy: 0.7158 - val_loss: 0.8575 - val_accuracy: 0.7059\n",
      "Epoch 57/100\n",
      "1852/1852 [==============================] - 31s 17ms/step - loss: 0.8317 - accuracy: 0.7154 - val_loss: 0.8406 - val_accuracy: 0.7139\n",
      "Epoch 58/100\n",
      "1852/1852 [==============================] - 32s 17ms/step - loss: 0.8307 - accuracy: 0.7168 - val_loss: 0.8405 - val_accuracy: 0.7148\n",
      "Epoch 59/100\n",
      "1852/1852 [==============================] - 32s 17ms/step - loss: 0.8292 - accuracy: 0.7173 - val_loss: 0.8356 - val_accuracy: 0.7173\n",
      "Epoch 60/100\n",
      "1852/1852 [==============================] - 31s 17ms/step - loss: 0.8286 - accuracy: 0.7161 - val_loss: 0.8726 - val_accuracy: 0.7013\n",
      "Epoch 61/100\n",
      "1852/1852 [==============================] - 32s 17ms/step - loss: 0.8285 - accuracy: 0.7160 - val_loss: 0.8487 - val_accuracy: 0.7102\n",
      "Epoch 62/100\n",
      "1852/1852 [==============================] - 32s 17ms/step - loss: 0.8276 - accuracy: 0.7160 - val_loss: 0.8503 - val_accuracy: 0.7123\n",
      "Epoch 63/100\n",
      "1852/1852 [==============================] - 32s 17ms/step - loss: 0.8274 - accuracy: 0.7158 - val_loss: 0.8425 - val_accuracy: 0.7144\n",
      "Epoch 64/100\n",
      "1852/1852 [==============================] - 32s 17ms/step - loss: 0.8279 - accuracy: 0.7158 - val_loss: 0.8552 - val_accuracy: 0.7094\n",
      "Epoch 65/100\n",
      "1852/1852 [==============================] - 32s 17ms/step - loss: 0.8256 - accuracy: 0.7177 - val_loss: 0.8464 - val_accuracy: 0.7116\n",
      "Epoch 66/100\n",
      "1852/1852 [==============================] - 31s 17ms/step - loss: 0.8255 - accuracy: 0.7181 - val_loss: 0.8441 - val_accuracy: 0.7153\n",
      "Epoch 67/100\n",
      "1852/1852 [==============================] - 32s 17ms/step - loss: 0.8269 - accuracy: 0.7182 - val_loss: 0.8381 - val_accuracy: 0.7153\n",
      "Epoch 68/100\n",
      "1852/1852 [==============================] - 32s 17ms/step - loss: 0.8271 - accuracy: 0.7180 - val_loss: 0.8682 - val_accuracy: 0.7013\n",
      "Epoch 69/100\n",
      "1852/1852 [==============================] - 32s 17ms/step - loss: 0.8256 - accuracy: 0.7168 - val_loss: 0.8416 - val_accuracy: 0.7120\n",
      "Epoch 70/100\n",
      "1852/1852 [==============================] - 72s 39ms/step - loss: 0.8259 - accuracy: 0.7176 - val_loss: 0.8338 - val_accuracy: 0.7160\n",
      "Epoch 71/100\n",
      "1852/1852 [==============================] - 75s 41ms/step - loss: 0.8250 - accuracy: 0.7174 - val_loss: 0.8473 - val_accuracy: 0.7103\n",
      "Epoch 72/100\n",
      "1852/1852 [==============================] - 80s 43ms/step - loss: 0.8244 - accuracy: 0.7169 - val_loss: 0.8351 - val_accuracy: 0.7159\n",
      "Epoch 73/100\n",
      "1852/1852 [==============================] - 95s 52ms/step - loss: 0.8262 - accuracy: 0.7172 - val_loss: 0.8448 - val_accuracy: 0.7107\n",
      "Epoch 74/100\n",
      "1852/1852 [==============================] - 98s 53ms/step - loss: 0.8249 - accuracy: 0.7182 - val_loss: 0.8423 - val_accuracy: 0.7138\n",
      "Epoch 75/100\n",
      "1852/1852 [==============================] - 113s 61ms/step - loss: 0.8232 - accuracy: 0.7177 - val_loss: 0.8471 - val_accuracy: 0.7151\n",
      "Epoch 76/100\n",
      "1852/1852 [==============================] - 112s 60ms/step - loss: 0.8236 - accuracy: 0.7181 - val_loss: 0.8699 - val_accuracy: 0.6976\n",
      "Epoch 77/100\n",
      "1852/1852 [==============================] - 103s 56ms/step - loss: 0.8247 - accuracy: 0.7187 - val_loss: 0.8401 - val_accuracy: 0.7188\n",
      "Epoch 78/100\n",
      "1852/1852 [==============================] - 97s 52ms/step - loss: 0.8229 - accuracy: 0.7191 - val_loss: 0.8352 - val_accuracy: 0.7150\n",
      "Epoch 79/100\n",
      "1852/1852 [==============================] - 90s 48ms/step - loss: 0.8227 - accuracy: 0.7199 - val_loss: 0.8427 - val_accuracy: 0.7126\n",
      "Epoch 80/100\n",
      "1852/1852 [==============================] - 82s 45ms/step - loss: 0.8236 - accuracy: 0.7184 - val_loss: 0.8301 - val_accuracy: 0.7179\n",
      "Epoch 81/100\n",
      "1852/1852 [==============================] - 74s 40ms/step - loss: 0.8236 - accuracy: 0.7165 - val_loss: 0.8602 - val_accuracy: 0.7092\n",
      "Epoch 82/100\n",
      "1852/1852 [==============================] - 99s 53ms/step - loss: 0.8230 - accuracy: 0.7170 - val_loss: 0.8521 - val_accuracy: 0.7071\n",
      "Epoch 83/100\n",
      "1852/1852 [==============================] - 103s 55ms/step - loss: 0.8235 - accuracy: 0.7181 - val_loss: 0.8316 - val_accuracy: 0.7176\n",
      "Epoch 84/100\n",
      "1852/1852 [==============================] - 114s 61ms/step - loss: 0.8232 - accuracy: 0.7171 - val_loss: 0.8472 - val_accuracy: 0.7107\n",
      "Epoch 85/100\n",
      "1852/1852 [==============================] - 107s 58ms/step - loss: 0.8225 - accuracy: 0.7194 - val_loss: 0.8309 - val_accuracy: 0.7179\n",
      "Epoch 86/100\n",
      "1852/1852 [==============================] - 91s 49ms/step - loss: 0.8220 - accuracy: 0.7181 - val_loss: 0.8336 - val_accuracy: 0.7190\n",
      "Epoch 87/100\n",
      "1852/1852 [==============================] - 100s 54ms/step - loss: 0.8231 - accuracy: 0.7191 - val_loss: 0.8438 - val_accuracy: 0.7124\n",
      "Epoch 88/100\n",
      "1852/1852 [==============================] - 74s 40ms/step - loss: 0.8221 - accuracy: 0.7172 - val_loss: 0.8420 - val_accuracy: 0.7131\n",
      "Epoch 89/100\n",
      "1852/1852 [==============================] - 91s 49ms/step - loss: 0.8219 - accuracy: 0.7183 - val_loss: 0.8360 - val_accuracy: 0.7138\n",
      "Epoch 90/100\n",
      "1852/1852 [==============================] - 89s 48ms/step - loss: 0.8213 - accuracy: 0.7170 - val_loss: 0.8407 - val_accuracy: 0.7143\n",
      "Epoch 91/100\n",
      "1852/1852 [==============================] - 77s 42ms/step - loss: 0.8214 - accuracy: 0.7190 - val_loss: 0.8401 - val_accuracy: 0.7116\n",
      "Epoch 92/100\n",
      "1852/1852 [==============================] - 90s 48ms/step - loss: 0.8206 - accuracy: 0.7183 - val_loss: 0.8369 - val_accuracy: 0.7141\n",
      "Epoch 93/100\n",
      "1852/1852 [==============================] - 98s 53ms/step - loss: 0.8205 - accuracy: 0.7192 - val_loss: 0.8306 - val_accuracy: 0.7200\n",
      "Epoch 94/100\n",
      "1852/1852 [==============================] - 103s 55ms/step - loss: 0.8206 - accuracy: 0.7175 - val_loss: 0.8513 - val_accuracy: 0.7156\n",
      "Epoch 95/100\n",
      "1852/1852 [==============================] - 93s 50ms/step - loss: 0.8214 - accuracy: 0.7183 - val_loss: 0.8276 - val_accuracy: 0.7201\n",
      "Epoch 96/100\n",
      "1852/1852 [==============================] - 106s 57ms/step - loss: 0.8198 - accuracy: 0.7183 - val_loss: 0.8532 - val_accuracy: 0.7091\n",
      "Epoch 97/100\n",
      "1852/1852 [==============================] - 99s 54ms/step - loss: 0.8193 - accuracy: 0.7181 - val_loss: 0.8260 - val_accuracy: 0.7197\n",
      "Epoch 98/100\n",
      "1852/1852 [==============================] - 104s 56ms/step - loss: 0.8193 - accuracy: 0.7187 - val_loss: 0.8349 - val_accuracy: 0.7174\n",
      "Epoch 99/100\n",
      "1852/1852 [==============================] - 116s 62ms/step - loss: 0.8203 - accuracy: 0.7195 - val_loss: 0.8418 - val_accuracy: 0.7141\n",
      "Epoch 100/100\n",
      "1852/1852 [==============================] - 113s 61ms/step - loss: 0.8193 - accuracy: 0.7192 - val_loss: 0.8285 - val_accuracy: 0.7197\n"
     ]
    }
   ],
   "source": [
    "history = model.fit(X_train, y_train, epochs = 100, \n",
    "                    validation_split = 0.25, shuffle = True, callbacks = None,\n",
    "                    use_multiprocessing=True, workers=4)"
   ]
  },
  {
   "cell_type": "markdown",
   "metadata": {},
   "source": [
    "# Test"
   ]
  },
  {
   "cell_type": "markdown",
   "metadata": {},
   "source": [
    "### Exercise"
   ]
  },
  {
   "cell_type": "markdown",
   "metadata": {},
   "source": [
    "Make a function to plot the learning curve and ROCs. Results have been provided for comparsion"
   ]
  },
  {
   "cell_type": "code",
   "execution_count": 13,
   "metadata": {},
   "outputs": [],
   "source": [
    "# make function here"
   ]
  },
  {
   "cell_type": "code",
   "execution_count": 10,
   "metadata": {},
   "outputs": [
    {
     "data": {
      "image/png": "[encoded data removed]",
      "text/plain": [
       "<Figure size 432x288 with 1 Axes>"
      ]
     },
     "metadata": {
      "needs_background": "light"
     },
     "output_type": "display_data"
    }
   ],
   "source": [
    "learningCurveLoss(history)"
   ]
  },
  {
   "cell_type": "code",
   "execution_count": 11,
   "metadata": {},
   "outputs": [],
   "source": [
    "# make function here"
   ]
  },
  {
   "cell_type": "code",
   "execution_count": 12,
   "metadata": {},
   "outputs": [
    {
     "data": {
      "image/png": "[encoded data removed]",
      "text/plain": [
       "<Figure size 432x288 with 1 Axes>"
      ]
     },
     "metadata": {
      "needs_background": "light"
     },
     "output_type": "display_data"
    }
   ],
   "source": [
    "# call function here"
   ]
  },
  {
   "cell_type": "code",
   "execution_count": null,
   "metadata": {},
   "outputs": [],
   "source": []
  }
 ],
 "metadata": {
  "kernelspec": {
   "display_name": "Python 3",
   "language": "python",
   "name": "python3"
  },
  "language_info": {
   "codemirror_mode": {
    "name": "ipython",
    "version": 3
   },
   "file_extension": ".py",
   "mimetype": "text/x-python",
   "name": "python",
   "nbconvert_exporter": "python",
   "pygments_lexer": "ipython3",
   "version": "3.6.12"
  }
 },
 "nbformat": 4,
 "nbformat_minor": 4
}
